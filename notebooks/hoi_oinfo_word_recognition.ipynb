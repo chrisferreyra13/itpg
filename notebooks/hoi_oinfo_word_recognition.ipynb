{
 "cells": [
  {
   "attachments": {},
   "cell_type": "markdown",
   "metadata": {},
   "source": [
    "# O-Information on word recognition"
   ]
  },
  {
   "cell_type": "code",
   "execution_count": 4,
   "metadata": {},
   "outputs": [],
   "source": [
    "import os\n",
    "\n",
    "import numpy as np\n",
    "import xarray as xr\n",
    "\n",
    "from mne.io import read_raw_fif\n",
    "\n",
    "from mne_bids import BIDSPath\n",
    "\n",
    "import matplotlib.pyplot as plt\n",
    "from frites import set_mpl_style\n",
    "\n",
    "from itpg.hoi.connectivity import conn_hoi\n",
    "\n",
    "set_mpl_style()"
   ]
  },
  {
   "attachments": {},
   "cell_type": "markdown",
   "metadata": {},
   "source": [
    "#### Global variables"
   ]
  },
  {
   "cell_type": "code",
   "execution_count": 6,
   "metadata": {},
   "outputs": [],
   "source": [
    "mainpath=os.getcwd()\n",
    "dataset_path=os.path.join(mainpath,'data','dataset-word_recognition_meg')\n",
    "bids_path=BIDSPath(root=dataset_path)\n",
    "mod='meg'\n",
    "task='words'"
   ]
  },
  {
   "cell_type": "code",
   "execution_count": null,
   "metadata": {},
   "outputs": [],
   "source": [
    "sub_num='001'\n"
   ]
  }
 ],
 "metadata": {
  "kernelspec": {
   "display_name": ".venv",
   "language": "python",
   "name": "python3"
  },
  "language_info": {
   "codemirror_mode": {
    "name": "ipython",
    "version": 3
   },
   "file_extension": ".py",
   "mimetype": "text/x-python",
   "name": "python",
   "nbconvert_exporter": "python",
   "pygments_lexer": "ipython3",
   "version": "3.9.12"
  },
  "orig_nbformat": 4,
  "vscode": {
   "interpreter": {
    "hash": "e810d7c41714b3e35762454c1eccc6bfd289610536d1457662ea93b94c6d0aaa"
   }
  }
 },
 "nbformat": 4,
 "nbformat_minor": 2
}
